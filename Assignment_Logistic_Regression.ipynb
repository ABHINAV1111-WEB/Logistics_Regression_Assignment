{
  "nbformat": 4,
  "nbformat_minor": 0,
  "metadata": {
    "colab": {
      "provenance": []
    },
    "kernelspec": {
      "name": "python3",
      "display_name": "Python 3"
    },
    "language_info": {
      "name": "python"
    }
  },
  "cells": [
    {
      "cell_type": "markdown",
      "source": [
        "**Theoretical**"
      ],
      "metadata": {
        "id": "R953oqKIW8u-"
      }
    },
    {
      "cell_type": "markdown",
      "source": [
        "**1. What is Logistic Regression, and how does it differ from Linear Regression?**\n",
        "\n",
        "Ans:\n",
        "**Logistic Regression:** is a statistical method used for classification problems, where the goal is to predict a binary outcome (0/1, yes/no, etc.). It uses a logistic function to model the probability of the outcome based on one or more predictor variables.\n",
        "The key differences between Logistic Regression and Linear Regression are:\n",
        "Outcome variable: Logistic Regression predicts a binary outcome, while Linear Regression predicts a continuous outcome.\n",
        "Model: Logistic Regression uses a logistic function (Sigmoid function), while Linear Regression uses a linear equation.\n",
        "Interpretation: Logistic Regression coefficients represent the change in log-odds, while Linear Regression coefficients represent the change in the outcome variable."
      ],
      "metadata": {
        "id": "Wpmze-QrW_WT"
      }
    },
    {
      "cell_type": "markdown",
      "source": [
        "2.  What is the mathematical equation of Logistic Regression?\n",
        "\n",
        "Ans:\n",
        "The mathematical equation for Logistic Regression is:\n",
        "p = 1 / (1 + e^(-z))\n",
        "where:\n",
        "p is the probability of the positive outcome (1)\n",
        "e is the base of the natural logarithm\n",
        "z is a linear combination of the predictor variables (x) and coefficients (β): z = β0 + β1x1 + β2x2 + … + βn*xn"
      ],
      "metadata": {
        "id": "FjzO2k80ZdyW"
      }
    },
    {
      "cell_type": "markdown",
      "source": [
        "**3. Why do we use the Sigmoid function in Logistic Regression?**\n",
        "\n",
        "Ans:\n",
        "The sigmoid function is used in Logistic Regression because it has several useful properties:\n",
        "Maps any real number to a value between 0 and 1: This allows the output to be interpreted as a probability.\n",
        "S-shaped curve: The sigmoid function maps large negative values to values close to 0 and large positive values to values close to 1.\n",
        "Differentiable: The sigmoid function is continuously differentiable, making it suitable for optimization using gradient-based methods."
      ],
      "metadata": {
        "id": "k3sPgy8LZs5E"
      }
    },
    {
      "cell_type": "markdown",
      "source": [
        "4. What is the cost function of Logistic Regression?\n",
        "\n",
        "Ans:\n",
        "The cost function for Logistic Regression is typically the Log Loss or Cross-Entropy Loss, defined as:\n",
        "J(β) = -[y * log(p) + (1-y) * log(1-p)]\n",
        "where:\n",
        "y is the actual outcome (0 or 1)\n",
        "p is the predicted probability\n",
        "β represents the model coefficients"
      ],
      "metadata": {
        "id": "_G6etcglZ_Ob"
      }
    },
    {
      "cell_type": "markdown",
      "source": [
        "**5.  What is Regularization in Logistic Regression? Why is it needed?**\n",
        "\n",
        "Ans:\n",
        "Regularization in Logistic Regression is a technique used to prevent overfitting by adding a penalty term to the loss function. Overfitting occurs when the model learns too much from the training data, capturing noise rather than general patterns, leading to poor performance on new data.\n",
        "\n",
        "Why is Regularization Needed?\n",
        "\n",
        "If a model is too complex, it may memorize the training data instead of learning underlying trends.\n",
        "\n",
        "Helps control large coefficient values that can make the model unstable.\n",
        "\n",
        "Improves generalization so the model performs well on unseen data."
      ],
      "metadata": {
        "id": "9weLaUkxaKl2"
      }
    },
    {
      "cell_type": "markdown",
      "source": [
        "**6. Explain the difference between Lasso, Ridge, and Elastic Net regression.**\n",
        "\n",
        "Ans:\n",
        "Lasso, Ridge, and Elastic Net are regularization techniques used in regression models:\n",
        "Lasso (L1 Regularization): Adds a penalty term proportional to the absolute value of coefficients. It can set coefficients to zero, effectively performing feature selection.\n",
        "Ridge (L2 Regularization): Adds a penalty term proportional to the square of coefficients. It shrinks coefficients towards zero but doesn't set them to zero.\n",
        "Elastic Net: Combines L1 and L2 regularization. It balances feature selection (like Lasso) and coefficient shrinkage (like Ridge).\n",
        "Key differences:\n",
        "Feature selection: Lasso and Elastic Net can perform feature selection by setting coefficients to zero, while Ridge cannot.\n",
        "Coefficient shrinkage: All three techniques shrink coefficients, but Ridge tends to shrink them more uniformly."
      ],
      "metadata": {
        "id": "McsR-TV5alfG"
      }
    },
    {
      "cell_type": "markdown",
      "source": [
        "**7. When should we use Elastic Net instead of Lasso or Ridge?**\n",
        "\n",
        "Ans:\n",
        "Use Elastic Net instead of Lasso or Ridge in the following situations:\n",
        "Correlated predictors: Elastic Net handles correlated predictors better than Lasso, which can arbitrarily select one predictor.\n",
        "Group selection: Elastic Net can select groups of correlated predictors, whereas Lasso might select only one.\n",
        "Balancing selection and shrinkage: Elastic Net balances the benefits of Lasso (feature selection) and Ridge (coefficient shrinkage).\n",
        "Use Elastic Net when you want to:\n",
        "Handle high-dimensional data with correlated predictors\n",
        "Select groups of relevant features\n",
        "Balance model sparsity and coefficient shrinkage"
      ],
      "metadata": {
        "id": "I8ZPaGNra0FX"
      }
    },
    {
      "cell_type": "markdown",
      "source": [
        "**8. What is the impact of the regularization parameter (λ) in Logistic Regression?**\n",
        "\n",
        "Ans:\n",
        "The regularization parameter (λ) in Logistic Regression controls the strength of the penalty term. Its impact is:\n",
        "λ = 0: No regularization, model prone to overfitting.\n",
        "Small λ: Weak regularization, model still flexible but slightly reduced overfitting.\n",
        "Large λ: Strong regularization, model simplified, and coefficients shrunk towards zero.\n",
        "\n",
        "Increasing λ:\n",
        "\n",
        "Reduces overfitting\n",
        "Increases bias\n",
        "Decreases variance"
      ],
      "metadata": {
        "id": "nO0J3dLSbDjP"
      }
    },
    {
      "cell_type": "markdown",
      "source": [
        "**9. What are the key assumptions of Logistic Regression?**\n",
        "\n",
        "Ans:\n",
        "he key assumptions of Logistic Regression are:\n",
        "Binary outcome: The outcome variable should be binary (0/1, yes/no, etc.).\n",
        "Independence of observations: Each observation should be independent of the others.\n",
        "Linearity in the log-odds: The relationship between the predictors and the log-odds of the outcome should be linear.\n",
        "No multicollinearity: Predictors should not be highly correlated with each other.\n",
        "No influential outliers: Extreme values should not disproportionately affect the model."
      ],
      "metadata": {
        "id": "GQ5AFerRbXQC"
      }
    },
    {
      "cell_type": "markdown",
      "source": [
        "**10.  What are some alternatives to Logistic Regression for classification tasks?**\n",
        "\n",
        "Ans:\n",
        "Some alternatives to Logistic Regression for classification tasks are:\n",
        "\n",
        "Decision Trees: Simple, interpretable models that partition data based on feature values.\n",
        "\n",
        "Random Forest: Ensemble models combining multiple decision trees for improved accuracy and robustness.\n",
        "\n",
        "Support Vector Machines (SVMs): Linear or nonlinear models finding the optimal hyperplane to separate classes.\n",
        "\n",
        "K-Nearest Neighbors (KNN): Simple models classifying based on similarity to neighboring data points.\n",
        "\n",
        "Neural Networks: Complex models learning nonlinear relationships and patterns in data.\n"
      ],
      "metadata": {
        "id": "o1Uk8tvjbnUc"
      }
    },
    {
      "cell_type": "markdown",
      "source": [
        "**11. What are Classification Evaluation Metrics?**\n",
        "\n",
        "Ans:\n",
        "Classification Evaluation Metrics assess a model's performance in predicting categorical outcomes. Common metrics include:\n",
        "Accuracy: Proportion of correctly classified instances.\n",
        "Precision: Proportion of true positives among predicted positives.\n",
        "Recall (Sensitivity): Proportion of true positives among actual positives.\n",
        "F1-Score: Harmonic mean of precision and recall.\n",
        "ROC-AUC (Receiver Operating Characteristic-Area Under the Curve): Measures model's ability to distinguish between classes."
      ],
      "metadata": {
        "id": "nzTnm4FLb-60"
      }
    },
    {
      "cell_type": "markdown",
      "source": [
        "**12.  How does class imbalance affect Logistic Regression?**\n",
        "\n",
        "Ans:\n",
        "Class imbalance in Logistic Regression occurs when one class has a significantly larger number of instances than the other. This can lead to:\n",
        "Biased predictions: The model may be biased towards the majority class.\n",
        "Poor minority class performance: The model may struggle to accurately predict the minority class.\n",
        "Misleading accuracy: High overall accuracy might mask poor performance on the minority class."
      ],
      "metadata": {
        "id": "Y0cUcF_OcI_P"
      }
    },
    {
      "cell_type": "markdown",
      "source": [
        "**13. What is Hyperparameter Tuning in Logistic Regression?**\n",
        "\n",
        "Ans:\n",
        "Hyperparameter Tuning in Logistic Regression involves adjusting model parameters that are set before training, such as:\n",
        "Regularization strength (C or λ): Controls the penalty term's impact.\n",
        "Penalty type (L1 or L2): Determines the type of regularization.\n",
        "Solver: Algorithm used to optimize the model coefficients.\n",
        "Maximum iterations: Maximum number of iterations for the solver."
      ],
      "metadata": {
        "id": "4RWtmgjBcXDl"
      }
    },
    {
      "cell_type": "markdown",
      "source": [
        "**14. What are different solvers in Logistic Regression? Which one should be used?**\n",
        "\n",
        "Ans:\n",
        "Common solvers in Logistic Regression include:\n",
        "Liblinear: Suitable for small to medium-sized datasets, efficient for L1 and L2 regularization.\n",
        "Newton-CG: Efficient for large datasets, uses conjugate gradient method.\n",
        "LBFGS: Quasi-Newton method, suitable for large datasets.\n",
        "SAG: Stochastic Average Gradient, efficient for large datasets.\n",
        "SAGA: Stochastic Average Gradient with L1 and L2 regularization support.\n",
        "The choice of solver depends on:\n",
        "Dataset size: Larger datasets might benefit from SAG, SAGA, or Newton-CG.\n",
        "Regularization type: Liblinear is suitable for L1 and L2 regularization.\n",
        "Computational resources: Consider memory and computational power.\n"
      ],
      "metadata": {
        "id": "n5KjN3JVcrHE"
      }
    },
    {
      "cell_type": "markdown",
      "source": [
        "**15.  How is Logistic Regression extended for multiclass classification?**\n",
        "\n",
        "Ans:\n",
        "Logistic Regression can be extended for multiclass classification using:\n",
        "One-vs-Rest (OvR): Train a binary classifier for each class, predicting the probability of being in that class vs. all others.\n",
        "One-vs-One (OvO): Train a binary classifier for each pair of classes, predicting the probability of being in one class vs. the other.\n",
        "Multinomial Logistic Regression: Directly model the probabilities of each class using a softmax function."
      ],
      "metadata": {
        "id": "fIiUd23EdFK9"
      }
    },
    {
      "cell_type": "markdown",
      "source": [
        "**16.  What are the advantages and disadvantages of Logistic Regression?**\n",
        "\n",
        "Ans:\n",
        "Advantages of Logistic Regression:\n",
        "Interpretability: Easy to understand and interpret the relationships between predictors and the outcome.\n",
        "Simple implementation: Logistic Regression is widely supported in software packages and is relatively simple to implement.\n",
        "Fast training: Logistic Regression models typically train quickly, even on large datasets.\n",
        "Probability outputs: Logistic Regression provides probabilities for each class, allowing for nuanced decision-making.\n",
        "Regularization: Can be regularized to prevent overfitting.\n",
        "Disadvantages of Logistic Regression:\n",
        "Linearity assumption: Assumes a linear relationship between predictors and the log-odds, which might not always hold.\n",
        "Limited complexity: Logistic Regression might not perform well on complex datasets with nonlinear relationships.\n",
        "Class imbalance: Can struggle with class imbalance, requiring additional techniques to handle.\n",
        "Feature interactions: Doesn't automatically capture interactions between features, requiring manual feature engineering."
      ],
      "metadata": {
        "id": "VLMWDaWVdSBF"
      }
    },
    {
      "cell_type": "markdown",
      "source": [
        "**17. What are some use cases of Logistic Regression?**\n",
        "\n",
        "Ans:\n",
        "Logistic Regression has numerous applications across various industries, including:\n",
        "Credit Risk Assessment: Predicting loan defaults or creditworthiness.\n",
        "Medical Diagnosis: Predicting disease presence or likelihood of a medical condition.\n",
        "Marketing: Predicting customer churn, purchase likelihood, or response to campaigns.\n",
        "Customer Segmentation: Identifying high-value customers or segmenting audiences.\n",
        "Employee Turnover Prediction: Predicting employee attrition or retention.\n",
        "Fraud Detection: Identifying potential fraudulent transactions.\n",
        "Election Prediction: Predicting voter behavior or election outcomes."
      ],
      "metadata": {
        "id": "VLoOazAcdjTY"
      }
    },
    {
      "cell_type": "markdown",
      "source": [
        "**18.  What is the difference between Softmax Regression and Logistic Regression?**\n",
        "\n",
        "Ans:\n",
        "Softmax Regression (Multinomial Logistic Regression):\n",
        "Multiclass classification: Handles more than two classes.\n",
        "Softmax function: Maps inputs to probabilities for each class.\n",
        "Output: Probability distribution over all classes.\n",
        "Logistic Regression:\n",
        "Binary classification: Limited to two classes.\n",
        "Sigmoid function: Maps inputs to probabilities for a single class.\n",
        "Output: Probability of belonging to one class."
      ],
      "metadata": {
        "id": "Rfsd0XIndyTW"
      }
    },
    {
      "cell_type": "markdown",
      "source": [
        "**19. How do we choose between One-vs-Rest (OvR) and Softmax for multiclass classification?**\n",
        "\n",
        "Ans:\n",
        "The choice between One-vs-Rest (OvR) and Softmax for multiclass classification depends on:\n",
        "Number of classes: Softmax is often preferred for a moderate number of classes, while OvR can handle a large number of classes.\n",
        "Class balance: Softmax can be more sensitive to class imbalance, while OvR can be more robust.\n",
        "Interpretability: OvR provides more interpretable results, as each class is modeled separately.\n",
        "Computational cost: OvR requires training multiple models, which can be computationally expensive.\n",
        "Performance: Softmax often performs better when classes are mutually exclusive."
      ],
      "metadata": {
        "id": "SZ7fsF3xeN1T"
      }
    },
    {
      "cell_type": "markdown",
      "source": [
        "**20.  How do we interpret coefficients in Logistic Regression?**\n",
        "\n",
        "Ans:\n",
        "In Logistic Regression, coefficients represent the change in the log-odds of the outcome variable for a one-unit change in the predictor variable, while holding other variables constant.\n",
        "Interpretation:\n",
        "Positive coefficient: Increases the likelihood of the outcome (e.g., higher probability of success).\n",
        "Negative coefficient: Decreases the likelihood of the outcome (e.g., lower probability of success).\n",
        "Magnitude: Larger coefficients indicate a stronger relationship between the predictor and outcome.\n",
        "Odds Ratio (OR):\n",
        "OR > 1: Increases the odds of the outcome.\n",
        "OR < 1: Decreases the odds of the outcome.\n",
        "By examining coefficients and odds ratios, you can gain insights into the relationships between predictors and the outcome variable.\n",
        "Meta AI response: In Logistic Regression, coefficients represent the change in the log-odds of the outcome variable for a one-unit change in the predictor variable, while holding other variables constant. Interpretation: Positive coefficient: Increases the likelihood of the outcome (e.g., higher probability of success). Negative coefficient: Decreases the likelihood of the outcome (e.g., lower probability of success). Magnitude: Larger coefficients indicate a stronger relationship between the predictor and outcome. Odds Ratio (OR): OR > 1: Increases the odds of the outcome. OR < 1: Decreases the odds of the outcome. By examining coefficients and odds ratios, you can gain insights into the relationships between predictors and the outcome variable."
      ],
      "metadata": {
        "id": "rUz7hKpNeegh"
      }
    },
    {
      "cell_type": "markdown",
      "source": [
        "**Practical**"
      ],
      "metadata": {
        "id": "lTxvFL3OCOKO"
      }
    },
    {
      "cell_type": "markdown",
      "source": [
        "1. Write a Python program that loads a dataset, splits it into training and testing sets, applies Logistic\n",
        "Regression, and prints the model accuracy."
      ],
      "metadata": {
        "id": "BMdGhQdjDjTm"
      }
    },
    {
      "cell_type": "code",
      "source": [
        "import pandas as pd\n",
        "import numpy as np\n",
        "from sklearn.datasets import load_iris\n",
        "from sklearn.linear_model import LogisticRegression\n",
        "from sklearn.model_selection import train_test_split\n",
        "from sklearn.metrics import accuracy_score\n",
        "import warnings\n",
        "warnings.filterwarnings('ignore')\n",
        "\n",
        "# loading data to dataset\n",
        "dataset= load_iris()\n",
        "x= dataset.data # independent variable\n",
        "y= dataset.target # dependent variable\n",
        "\n",
        "# train,test,split\n",
        "x_train,x_test,y_train,y_test= train_test_split(x,y,test_size=.2,random_state=42)\n",
        "\n",
        "#LogisticRegression\n",
        "classifier= LogisticRegression()\n",
        "classifier.fit(x_train,y_train)\n",
        "\n",
        "# prediction\n",
        "y_pred= classifier.predict(x_test)\n",
        "\n",
        "# accuracy testing\n",
        "accuracy= accuracy_score(y_pred,y_test)\n",
        "print(f'model accuracy : {accuracy: .2f}')"
      ],
      "metadata": {
        "colab": {
          "base_uri": "https://localhost:8080/"
        },
        "id": "O9q9Yxi2CRje",
        "outputId": "1526cb98-0986-4bef-aa61-04413accead6"
      },
      "execution_count": 3,
      "outputs": [
        {
          "output_type": "stream",
          "name": "stdout",
          "text": [
            "model accuracy :  1.00\n"
          ]
        }
      ]
    },
    {
      "cell_type": "markdown",
      "source": [
        "2.  Write a Python program to apply L1 regularization (Lasso) on a dataset using LogisticRegression(penalty='l1')\n",
        "and print the model accuracy."
      ],
      "metadata": {
        "id": "j9Lviuh7L9G9"
      }
    },
    {
      "cell_type": "code",
      "source": [
        "import pandas as pd\n",
        "import numpy as np\n",
        "from sklearn.datasets import load_iris\n",
        "from sklearn.linear_model import LogisticRegression\n",
        "from sklearn.model_selection import train_test_split\n",
        "from sklearn.metrics import accuracy_score\n",
        "\n",
        "# loading data to dataset\n",
        "dataset= load_iris()\n",
        "x= dataset.data # independent variable\n",
        "y= dataset.target # dependent variable\n",
        "\n",
        "# train,test,split\n",
        "x_train,x_test,y_train,y_test= train_test_split(x,y,test_size=.2,random_state=42)\n",
        "\n",
        "#LogisticRegression\n",
        "classifier= LogisticRegression(penalty= 'l1', solver='liblinear')\n",
        "classifier.fit(x_train,y_train)\n",
        "\n",
        "# prediction\n",
        "y_pred= classifier.predict(x_test)\n",
        "\n",
        "# accuracy testing\n",
        "accuracy= accuracy_score(y_pred,y_test)\n",
        "print(f'model accuracy : {accuracy: .2f}')"
      ],
      "metadata": {
        "colab": {
          "base_uri": "https://localhost:8080/"
        },
        "id": "3nmRtUS4NmlX",
        "outputId": "f9aa312f-3521-4516-f25e-fb4c9c1d3989"
      },
      "execution_count": 4,
      "outputs": [
        {
          "output_type": "stream",
          "name": "stdout",
          "text": [
            "model accuracy :  1.00\n"
          ]
        }
      ]
    },
    {
      "cell_type": "markdown",
      "source": [
        "3.  Write a Python program to train Logistic Regression with L2 regularization (Ridge) using\n",
        "LogisticRegression(penalty='l2'). Print model accuracy and coefficients."
      ],
      "metadata": {
        "id": "-U1j_IplPUfv"
      }
    },
    {
      "cell_type": "code",
      "source": [
        "import pandas as pd\n",
        "import numpy as np\n",
        "from sklearn.datasets import load_iris\n",
        "from sklearn.linear_model import LogisticRegression\n",
        "from sklearn.model_selection import train_test_split\n",
        "from sklearn.metrics import accuracy_score\n",
        "\n",
        "# loading data to dataset\n",
        "dataset= load_iris()\n",
        "x= dataset.data # independent variable\n",
        "y= dataset.target # dependent variable\n",
        "\n",
        "# train,test,split\n",
        "x_train,x_test,y_train,y_test= train_test_split(x,y,test_size=.2,random_state=42)\n",
        "\n",
        "#LogisticRegression\n",
        "classifier= LogisticRegression(penalty= 'l2', solver='newton-cg')\n",
        "classifier.fit(x_train,y_train)\n",
        "\n",
        "# prediction\n",
        "y_pred= classifier.predict(x_test)\n",
        "\n",
        "# accuracy testing\n",
        "accuracy= accuracy_score(y_pred,y_test)\n",
        "coefficient= classifier.coef_\n",
        "print(f'model accuracy : {accuracy: .2f}')\n",
        "print(f'model coefficients: {coefficient}')"
      ],
      "metadata": {
        "colab": {
          "base_uri": "https://localhost:8080/"
        },
        "id": "9DsTukVPQoPb",
        "outputId": "cf284042-721a-47d8-f036-29fcc8f6bf05"
      },
      "execution_count": 5,
      "outputs": [
        {
          "output_type": "stream",
          "name": "stdout",
          "text": [
            "model accuracy :  1.00\n",
            "model coefficients: [[-0.39597006  0.9612114  -2.37397186 -1.0028964 ]\n",
            " [ 0.51182906 -0.25446652 -0.21592006 -0.7688721 ]\n",
            " [-0.115859   -0.70674488  2.58989192  1.77176851]]\n"
          ]
        }
      ]
    },
    {
      "cell_type": "markdown",
      "source": [
        "**4. Write a Python program to train Logistic Regression with Elastic Net Regularization (penalty='elasticnet').**"
      ],
      "metadata": {
        "id": "2t4pzxN0R8s7"
      }
    },
    {
      "cell_type": "code",
      "source": [
        "import pandas as pd\n",
        "import numpy as np\n",
        "from sklearn.datasets import load_iris\n",
        "from sklearn.linear_model import LogisticRegression\n",
        "from sklearn.model_selection import train_test_split\n",
        "from sklearn.metrics import accuracy_score\n",
        "\n",
        "# loading data to dataset\n",
        "dataset= load_iris()\n",
        "x= dataset.data # independent variable\n",
        "y= dataset.target # dependent variable\n",
        "\n",
        "# train,test,split\n",
        "x_train,x_test,y_train,y_test= train_test_split(x,y,test_size=.2,random_state=42)\n",
        "\n",
        "#LogisticRegression\n",
        "classifier= LogisticRegression(penalty= 'elasticnet', solver='saga',l1_ratio=.5, max_iter=200)\n",
        "classifier.fit(x_train,y_train)\n",
        "\n",
        "# prediction\n",
        "y_pred= classifier.predict(x_test)\n",
        "\n",
        "# accuracy testing\n",
        "accuracy= accuracy_score(y_pred,y_test)\n",
        "print(f'model accuracy : {accuracy: .2f}')"
      ],
      "metadata": {
        "colab": {
          "base_uri": "https://localhost:8080/"
        },
        "id": "11p4ZijFSDR-",
        "outputId": "e59149b6-491d-4183-9ec1-1abfa424f069"
      },
      "execution_count": 6,
      "outputs": [
        {
          "output_type": "stream",
          "name": "stdout",
          "text": [
            "model accuracy :  1.00\n"
          ]
        }
      ]
    },
    {
      "cell_type": "markdown",
      "source": [
        "5.  Write a Python program to train a Logistic Regression model for multiclass classification using\n",
        "multi_class='ovr'."
      ],
      "metadata": {
        "id": "iO2yebgCU2PR"
      }
    },
    {
      "cell_type": "code",
      "source": [
        "import pandas as pd\n",
        "import numpy as np\n",
        "from sklearn.datasets import load_iris\n",
        "from sklearn.linear_model import LogisticRegression\n",
        "from sklearn.model_selection import train_test_split\n",
        "from sklearn.metrics import accuracy_score\n",
        "\n",
        "# loading data to dataset\n",
        "dataset= load_iris()\n",
        "x= dataset.data # independent variable\n",
        "y= dataset.target # dependent variable\n",
        "\n",
        "# train,test,split\n",
        "x_train,x_test,y_train,y_test= train_test_split(x,y,test_size=.2,random_state=42)\n",
        "\n",
        "#LogisticRegression\n",
        "classifier= LogisticRegression(multi_class= 'ovr', solver='liblinear',max_iter=200)\n",
        "classifier.fit(x_train,y_train)\n",
        "\n",
        "# prediction\n",
        "y_pred= classifier.predict(x_test)\n",
        "\n",
        "# accuracy testing\n",
        "accuracy= accuracy_score(y_pred,y_test)\n",
        "print(f'model accuracy : {accuracy: .2f}')"
      ],
      "metadata": {
        "colab": {
          "base_uri": "https://localhost:8080/"
        },
        "id": "jYKcLUSuc-Jc",
        "outputId": "105d3056-3381-4bb9-9b02-bcfc4b94892d"
      },
      "execution_count": 7,
      "outputs": [
        {
          "output_type": "stream",
          "name": "stdout",
          "text": [
            "model accuracy :  1.00\n"
          ]
        }
      ]
    },
    {
      "cell_type": "markdown",
      "source": [
        "6. Write a Python program to apply GridSearchCV to tune the hyperparameters (C and penalty) of Logistic\n",
        "Regression. Print the best parameters and accuracy."
      ],
      "metadata": {
        "id": "3c9nWhR8dn0t"
      }
    },
    {
      "cell_type": "code",
      "source": [
        "import pandas as pd\n",
        "import numpy as np\n",
        "from sklearn.datasets import load_iris\n",
        "from sklearn.linear_model import LogisticRegression\n",
        "from sklearn.model_selection import train_test_split\n",
        "from sklearn.metrics import accuracy_score\n",
        "\n",
        "# loading data to dataset\n",
        "dataset= load_iris()\n",
        "x= dataset.data # independent variable\n",
        "y= dataset.target # dependent variable\n",
        "\n",
        "# train,test,split\n",
        "x_train,x_test,y_train,y_test= train_test_split(x,y,test_size=.2,random_state=42)\n",
        "\n",
        "# GridSearchCV\n",
        "from sklearn.model_selection import GridSearchCV\n",
        "parameters= {'penalty':('l1','l2','elasticnet',None),'C':[-1,10,20]}\n",
        "grid_search= GridSearchCV(classifier,param_grid=parameters,cv=5)\n",
        "grid_search.fit(x_train,y_train)\n",
        "\n",
        "# finding the best parameters for futher uses\n",
        "print(grid_search.best_params_)\n",
        "\n",
        "#fitting best parameters in Logistic Regression\n",
        "classifier= LogisticRegression(C=1,penalty='l2')\n",
        "classifier.fit(x_train,y_train)\n",
        "\n",
        "# prediction\n",
        "y_pred= classifier.predict(x_test)\n",
        "\n",
        "# accuracy testing\n",
        "accuracy= accuracy_score(y_pred,y_test)\n",
        "print(f'model accuracy : {accuracy: .2f}')"
      ],
      "metadata": {
        "colab": {
          "base_uri": "https://localhost:8080/"
        },
        "id": "eW3jO0CheUD8",
        "outputId": "fbafaf52-f762-4de3-b081-31d08d8ceb81"
      },
      "execution_count": 8,
      "outputs": [
        {
          "output_type": "stream",
          "name": "stdout",
          "text": [
            "{'C': 10, 'penalty': 'l1'}\n",
            "model accuracy :  1.00\n"
          ]
        }
      ]
    },
    {
      "cell_type": "markdown",
      "source": [
        "7. Write a Python program to evaluate Logistic Regression using Stratified K-Fold Cross-Validation. Print the\n",
        "average accuracy."
      ],
      "metadata": {
        "id": "4FF5mIQ8n1Er"
      }
    },
    {
      "cell_type": "code",
      "source": [
        "import numpy as np\n",
        "import pandas as pd\n",
        "from sklearn.model_selection import StratifiedKFold\n",
        "from sklearn.linear_model import LogisticRegression\n",
        "from sklearn.metrics import accuracy_score\n",
        "from sklearn.datasets import load_iris\n",
        "\n",
        "# Load dataset\n",
        "data = load_iris()\n",
        "X, y = data.data, data.target\n",
        "\n",
        "# define Stratified KFold cross validation\n",
        "kf= StratifiedKFold(n_splits=5, shuffle= True, random_state=42)\n",
        "\n",
        "# initialize variable\n",
        "accuracies= []\n",
        "\n",
        "# performing cross validation\n",
        "for train_index, test_index in kf.split(x,y):\n",
        "  x_train, x_test= x[train_index], x[test_index]\n",
        "  y_train,y_test= y[train_index], y[test_index]\n",
        "  # train logistic regression model:\n",
        "  model= LogisticRegression(max_iter=1000)\n",
        "  model.fit(x_train,y_train)\n",
        "  #predict and caculate accuracy\n",
        "  y_pred= model.predict(x_test)\n",
        "  accuracy= accuracy_score(y_test, y_pred)\n",
        "  accuracies.append(accuracy)\n",
        "\n",
        "print(accuracies)\n",
        "print(f'average accuracy: {np.mean(accuracies): .2f}')"
      ],
      "metadata": {
        "colab": {
          "base_uri": "https://localhost:8080/"
        },
        "id": "F80sYyFVrWwE",
        "outputId": "3b2b02ef-ca1a-40bd-aa04-7aa7a12014fa"
      },
      "execution_count": 12,
      "outputs": [
        {
          "output_type": "stream",
          "name": "stdout",
          "text": [
            "[1.0, 0.9666666666666667, 0.9333333333333333, 1.0, 0.9333333333333333]\n",
            "average accuracy:  0.97\n"
          ]
        }
      ]
    },
    {
      "cell_type": "markdown",
      "source": [
        "8.  Write a Python program to load a dataset from a CSV file, apply Logistic Regression, and evaluate its\n",
        "accuracy."
      ],
      "metadata": {
        "id": "K46qQa2eIa04"
      }
    },
    {
      "cell_type": "code",
      "source": [
        "import pandas as pd\n",
        "from sklearn.model_selection import train_test_split\n",
        "from sklearn.preprocessing import StandardScaler\n",
        "from sklearn.linear_model import LogisticRegression\n",
        "from sklearn.metrics import accuracy_score\n",
        "\n",
        "# Load the dataset\n",
        "df = pd.read_csv(\"Algeria_forest_fires_cleaned_dataset.csv\")\n",
        "\n",
        "# Preprocessing: Select features and target variable\n",
        "X = df.drop(columns=[\"Classes\", \"Region\"])  # Features\n",
        "y = df[\"Classes\"].apply(lambda x: 1 if x.strip() == \"fire\" else 0)  # Convert class labels to binary\n",
        "\n",
        "# Split dataset into training and test sets\n",
        "X_train, X_test, y_train, y_test = train_test_split(X, y, test_size=0.2, random_state=42)\n",
        "\n",
        "# Scale the features\n",
        "scaler = StandardScaler()\n",
        "X_train_scaled = scaler.fit_transform(X_train)\n",
        "X_test_scaled = scaler.transform(X_test)\n",
        "\n",
        "# Train a Logistic Regression model\n",
        "model = LogisticRegression()\n",
        "model.fit(X_train_scaled, y_train)\n",
        "\n",
        "# Predict and evaluate the model\n",
        "y_pred = model.predict(X_test_scaled)\n",
        "accuracy = accuracy_score(y_test, y_pred)\n",
        "\n",
        "print(f\"Logistic Regression Model Accuracy: {accuracy:.2f}\")\n"
      ],
      "metadata": {
        "colab": {
          "base_uri": "https://localhost:8080/"
        },
        "id": "DqNzt0B4KDbY",
        "outputId": "f5a3814d-64a4-4e88-f69f-e8db68f3fe35"
      },
      "execution_count": 14,
      "outputs": [
        {
          "output_type": "stream",
          "name": "stdout",
          "text": [
            "Logistic Regression Model Accuracy: 0.96\n"
          ]
        }
      ]
    },
    {
      "cell_type": "markdown",
      "source": [
        "9. Write a Python program to apply RandomizedSearchCV for tuning hyperparameters (C, penalty, solver) in\n",
        "Logistic Regression. Print the best parameters and accuracy"
      ],
      "metadata": {
        "id": "bJuFVs2GKZvk"
      }
    },
    {
      "cell_type": "code",
      "source": [
        "import pandas as pd\n",
        "from sklearn.model_selection import train_test_split\n",
        "from sklearn.preprocessing import StandardScaler\n",
        "from sklearn.linear_model import LogisticRegression\n",
        "from sklearn.model_selection import RandomizedSearchCV\n",
        "from sklearn.metrics import accuracy_score\n",
        "\n",
        "# Load the dataset\n",
        "df = pd.read_csv(\"Algeria_forest_fires_cleaned_dataset.csv\")\n",
        "\n",
        "# Preprocessing: Select features and target variable\n",
        "X = df.drop(columns=[\"Classes\", \"Region\"])  # Features\n",
        "y = df[\"Classes\"].apply(lambda x: 1 if x.strip() == \"fire\" else 0)  # Convert class labels to binary\n",
        "\n",
        "# Split dataset into training and test sets\n",
        "X_train, X_test, y_train, y_test = train_test_split(X, y, test_size=0.2, random_state=42)\n",
        "\n",
        "# Scale the features\n",
        "scaler = StandardScaler()\n",
        "X_train_scaled = scaler.fit_transform(X_train)\n",
        "X_test_scaled = scaler.transform(X_test)\n",
        "\n",
        "# Define parameter grid for RandomizedSearchCV\n",
        "param_dist = {\n",
        "    \"C\": [0.01, 0.1, 1, 10, 100],\n",
        "    \"penalty\": [\"l1\", \"l2\"],\n",
        "    \"solver\": [\"liblinear\", \"saga\"]\n",
        "}\n",
        "\n",
        "# Initialize and run RandomizedSearchCV\n",
        "log_reg = LogisticRegression(max_iter=500)\n",
        "random_search = RandomizedSearchCV(log_reg, param_dist, cv=5, n_iter=10, random_state=42)\n",
        "random_search.fit(X_train_scaled, y_train)\n",
        "\n",
        "# Get best parameters\n",
        "best_params = random_search.best_params_\n",
        "\n",
        "# Predict and evaluate model with best parameters\n",
        "best_model = random_search.best_estimator_\n",
        "y_pred = best_model.predict(X_test_scaled)\n",
        "accuracy = accuracy_score(y_test, y_pred)\n",
        "\n",
        "print(f\"Best Parameters: {best_params}\")\n",
        "print(f\"Logistic Regression Model Accuracy: {accuracy:.2f}\")\n"
      ],
      "metadata": {
        "colab": {
          "base_uri": "https://localhost:8080/"
        },
        "id": "safbLvwNKlEp",
        "outputId": "0d488ad9-c04b-4a04-c501-d54209af4a45"
      },
      "execution_count": 15,
      "outputs": [
        {
          "output_type": "stream",
          "name": "stdout",
          "text": [
            "Best Parameters: {'solver': 'saga', 'penalty': 'l2', 'C': 10}\n",
            "Logistic Regression Model Accuracy: 0.96\n"
          ]
        }
      ]
    },
    {
      "cell_type": "markdown",
      "source": [
        "10.  Write a Python program to implement One-vs-One (OvO) Multiclass Logistic Regression and print accuracy."
      ],
      "metadata": {
        "id": "sAX9oOGCKptx"
      }
    },
    {
      "cell_type": "code",
      "source": [
        "import pandas as pd\n",
        "import numpy as np\n",
        "from sklearn.datasets import load_iris\n",
        "from sklearn.model_selection import train_test_split\n",
        "from sklearn.preprocessing import StandardScaler\n",
        "from sklearn.linear_model import LogisticRegression\n",
        "from sklearn.multiclass import OneVsOneClassifier\n",
        "from sklearn.metrics import accuracy_score\n",
        "\n",
        "# Load the iris dataset\n",
        "iris = load_iris()\n",
        "X = iris.data\n",
        "y = iris.target  # Multiclass labels\n",
        "\n",
        "# Split dataset into training and test sets\n",
        "X_train, X_test, y_train, y_test = train_test_split(X, y, test_size=0.2, random_state=42, stratify=y)\n",
        "\n",
        "# Scale the features\n",
        "scaler = StandardScaler()\n",
        "X_train_scaled = scaler.fit_transform(X_train)\n",
        "X_test_scaled = scaler.transform(X_test)\n",
        "\n",
        "# Train One-vs-One Logistic Regression model\n",
        "ovo_classifier = OneVsOneClassifier(LogisticRegression(max_iter=500))\n",
        "ovo_classifier.fit(X_train_scaled, y_train)\n",
        "\n",
        "# Predict and evaluate the model\n",
        "y_pred = ovo_classifier.predict(X_test_scaled)\n",
        "accuracy = accuracy_score(y_test, y_pred)\n",
        "\n",
        "print(f\"One-vs-One Multiclass Logistic Regression Accuracy on Iris dataset: {accuracy:.2f}\")\n"
      ],
      "metadata": {
        "colab": {
          "base_uri": "https://localhost:8080/"
        },
        "id": "ojomWFXdNYvf",
        "outputId": "29b86ae3-76a6-4587-8822-622764e15b44"
      },
      "execution_count": 16,
      "outputs": [
        {
          "output_type": "stream",
          "name": "stdout",
          "text": [
            "One-vs-One Multiclass Logistic Regression Accuracy on Iris dataset: 0.97\n"
          ]
        }
      ]
    },
    {
      "cell_type": "markdown",
      "source": [
        "11. Write a Python program to train a Logistic Regression model and visualize the confusion matrix for binary\n",
        "classification."
      ],
      "metadata": {
        "id": "6q9XI7sNQw-4"
      }
    },
    {
      "cell_type": "code",
      "source": [
        "import pandas as pd\n",
        "import matplotlib.pyplot as plt\n",
        "import seaborn as sns\n",
        "from sklearn.model_selection import train_test_split\n",
        "from sklearn.preprocessing import StandardScaler\n",
        "from sklearn.linear_model import LogisticRegression\n",
        "from sklearn.metrics import confusion_matrix, accuracy_score\n",
        "\n",
        "# Load the dataset\n",
        "df = pd.read_csv(\"Algeria_forest_fires_cleaned_dataset.csv\")\n",
        "\n",
        "# Preprocessing: Select features and target variable\n",
        "X = df.drop(columns=[\"Classes\", \"Region\"])  # Features\n",
        "y = df[\"Classes\"].apply(lambda x: 1 if x.strip() == \"fire\" else 0)  # Convert class labels to binary\n",
        "\n",
        "# Split dataset into training and test sets\n",
        "X_train, X_test, y_train, y_test = train_test_split(X, y, test_size=0.2, random_state=42)\n",
        "\n",
        "# Scale the features\n",
        "scaler = StandardScaler()\n",
        "X_train_scaled = scaler.fit_transform(X_train)\n",
        "X_test_scaled = scaler.transform(X_test)\n",
        "\n",
        "# Train a Logistic Regression model\n",
        "model = LogisticRegression()\n",
        "model.fit(X_train_scaled, y_train)\n",
        "\n",
        "# Predict on the test set\n",
        "y_pred = model.predict(X_test_scaled)\n",
        "\n",
        "# Evaluate model accuracy\n",
        "accuracy = accuracy_score(y_test, y_pred)\n",
        "print(f\"Logistic Regression Model Accuracy: {accuracy:.2f}\")\n",
        "\n",
        "# Compute the confusion matrix\n",
        "conf_matrix = confusion_matrix(y_test, y_pred)\n",
        "\n",
        "# Visualize the confusion matrix using seaborn\n",
        "plt.figure(figsize=(6,4))\n",
        "sns.heatmap(conf_matrix, annot=True, fmt=\"d\", cmap=\"Blues\", xticklabels=[\"Not Fire\", \"Fire\"], yticklabels=[\"Not Fire\", \"Fire\"])\n",
        "plt.xlabel(\"Predicted Label\")\n",
        "plt.ylabel(\"True Label\")\n",
        "plt.title(\"Confusion Matrix\")\n",
        "plt.show()\n"
      ],
      "metadata": {
        "colab": {
          "base_uri": "https://localhost:8080/",
          "height": 428
        },
        "id": "JWR5pj9_RM5o",
        "outputId": "e73001d8-29e3-4033-fe47-e892e84f13f5"
      },
      "execution_count": 18,
      "outputs": [
        {
          "output_type": "stream",
          "name": "stdout",
          "text": [
            "Logistic Regression Model Accuracy: 0.96\n"
          ]
        },
        {
          "output_type": "display_data",
          "data": {
            "text/plain": [
              "<Figure size 600x400 with 2 Axes>"
            ],
            "image/png": "[encoded data removed]"
          },
          "metadata": {}
        }
      ]
    },
    {
      "cell_type": "markdown",
      "source": [
        "12. Write a Python program to train a Logistic Regression model and evaluate its performance using Precision,\n",
        "Recall, and F1-Score."
      ],
      "metadata": {
        "id": "_1whKIcdRXDp"
      }
    },
    {
      "cell_type": "code",
      "source": [
        "import pandas as pd\n",
        "import numpy as np\n",
        "from sklearn.datasets import load_iris\n",
        "from sklearn.model_selection import train_test_split\n",
        "from sklearn.preprocessing import StandardScaler\n",
        "from sklearn.linear_model import LogisticRegression\n",
        "from sklearn.metrics import classification_report\n",
        "\n",
        "# Load the iris dataset\n",
        "iris = load_iris()\n",
        "X = iris.data\n",
        "y = iris.target  # Multiclass labels\n",
        "\n",
        "# Split dataset into training and test sets\n",
        "X_train, X_test, y_train, y_test = train_test_split(X, y, test_size=0.2, random_state=42, stratify=y)\n",
        "\n",
        "# Scale the features\n",
        "scaler = StandardScaler()\n",
        "X_train_scaled = scaler.fit_transform(X_train)\n",
        "X_test_scaled = scaler.transform(X_test)\n",
        "\n",
        "# Train a Logistic Regression model\n",
        "model = LogisticRegression(max_iter=500)\n",
        "model.fit(X_train_scaled, y_train)\n",
        "\n",
        "# Predict on the test set\n",
        "y_pred = model.predict(X_test_scaled)\n",
        "\n",
        "# Evaluate the model using Precision, Recall, and F1-Score\n",
        "print(\"Classification Report:\")\n",
        "print(classification_report(y_test, y_pred, target_names=iris.target_names))\n"
      ],
      "metadata": {
        "colab": {
          "base_uri": "https://localhost:8080/"
        },
        "id": "TYR30eLpRot7",
        "outputId": "1325ca3c-32ad-405d-912d-a8e9a7e3b6c7"
      },
      "execution_count": 19,
      "outputs": [
        {
          "output_type": "stream",
          "name": "stdout",
          "text": [
            "Classification Report:\n",
            "              precision    recall  f1-score   support\n",
            "\n",
            "      setosa       1.00      1.00      1.00        10\n",
            "  versicolor       0.90      0.90      0.90        10\n",
            "   virginica       0.90      0.90      0.90        10\n",
            "\n",
            "    accuracy                           0.93        30\n",
            "   macro avg       0.93      0.93      0.93        30\n",
            "weighted avg       0.93      0.93      0.93        30\n",
            "\n"
          ]
        }
      ]
    },
    {
      "cell_type": "markdown",
      "source": [
        "13. Write a Python program to train a Logistic Regression model on imbalanced data and apply class weights to\n",
        "improve model performance."
      ],
      "metadata": {
        "id": "N9NjfTjkRrK4"
      }
    },
    {
      "cell_type": "code",
      "source": [
        "import numpy as np\n",
        "import pandas as pd\n",
        "from sklearn.datasets import load_iris\n",
        "from sklearn.model_selection import train_test_split\n",
        "from sklearn.preprocessing import StandardScaler\n",
        "from sklearn.linear_model import LogisticRegression\n",
        "from sklearn.utils import class_weight\n",
        "from sklearn.metrics import classification_report\n",
        "\n",
        "# Load the iris dataset\n",
        "iris = load_iris()\n",
        "X = iris.data\n",
        "y = iris.target  # Multiclass labels\n",
        "\n",
        "# Simulating imbalance: Reduce samples for one class\n",
        "mask = (y == 2)  # Choose class \"virginica\" to reduce\n",
        "X_imbalanced = X[~mask]  # Remove some instances\n",
        "y_imbalanced = y[~mask]\n",
        "\n",
        "# Split dataset into training and test sets\n",
        "X_train, X_test, y_train, y_test = train_test_split(X_imbalanced, y_imbalanced, test_size=0.2, random_state=42, stratify=y_imbalanced)\n",
        "\n",
        "# Scale the features\n",
        "scaler = StandardScaler()\n",
        "X_train_scaled = scaler.fit_transform(X_train)\n",
        "X_test_scaled = scaler.transform(X_test)\n",
        "\n",
        "# Compute class weights\n",
        "weights = class_weight.compute_class_weight('balanced', classes=np.unique(y_train), y=y_train)\n",
        "class_weights_dict = {cls: weight for cls, weight in zip(np.unique(y_train), weights)}\n",
        "\n",
        "# Train Logistic Regression model with class weights\n",
        "model = LogisticRegression(class_weight=class_weights_dict, max_iter=500)\n",
        "model.fit(X_train_scaled, y_train)\n",
        "\n",
        "# Predict and evaluate the model\n",
        "y_pred = model.predict(X_test_scaled)\n",
        "print(\"Classification Report:\")\n",
        "print(classification_report(y_test, y_pred, target_names=[\"Setosa\", \"Versicolor\"]))"
      ],
      "metadata": {
        "colab": {
          "base_uri": "https://localhost:8080/"
        },
        "id": "skU9iljZR9AD",
        "outputId": "5ba9510f-84c2-45cc-b277-2bb62d189130"
      },
      "execution_count": 20,
      "outputs": [
        {
          "output_type": "stream",
          "name": "stdout",
          "text": [
            "Classification Report:\n",
            "              precision    recall  f1-score   support\n",
            "\n",
            "      Setosa       1.00      1.00      1.00        10\n",
            "  Versicolor       1.00      1.00      1.00        10\n",
            "\n",
            "    accuracy                           1.00        20\n",
            "   macro avg       1.00      1.00      1.00        20\n",
            "weighted avg       1.00      1.00      1.00        20\n",
            "\n"
          ]
        }
      ]
    },
    {
      "cell_type": "markdown",
      "source": [
        "14. Write a Python program to train Logistic Regression on the Titanic dataset, handle missing values, and\n",
        "evaluate performance."
      ],
      "metadata": {
        "id": "RqxoGQGXSBeW"
      }
    },
    {
      "cell_type": "code",
      "source": [
        "import pandas as pd\n",
        "import numpy as np\n",
        "from sklearn.model_selection import train_test_split\n",
        "from sklearn.preprocessing import StandardScaler\n",
        "from sklearn.linear_model import LogisticRegression\n",
        "from sklearn.metrics import accuracy_score, classification_report\n",
        "\n",
        "# Load the Titanic dataset\n",
        "url = \"https://raw.githubusercontent.com/datasciencedojo/datasets/master/titanic.csv\"\n",
        "df = pd.read_csv(url)\n",
        "\n",
        "# Select relevant features and target\n",
        "features = [\"Pclass\", \"Sex\", \"Age\", \"SibSp\", \"Parch\", \"Fare\"]\n",
        "df = df[features + [\"Survived\"]]\n",
        "\n",
        "# Handle missing values\n",
        "df[\"Age\"].fillna(df[\"Age\"].median(), inplace=True)  # Fill missing Age with median\n",
        "df[\"Fare\"].fillna(df[\"Fare\"].median(), inplace=True)  # Fill missing Fare with median\n",
        "\n",
        "# Encode categorical variables\n",
        "df[\"Sex\"] = df[\"Sex\"].map({\"male\": 0, \"female\": 1})  # Convert Sex to numerical values\n",
        "\n",
        "# Split dataset into features and target\n",
        "X = df.drop(columns=[\"Survived\"])  # Features\n",
        "y = df[\"Survived\"]  # Target\n",
        "\n",
        "# Split into training and test sets\n",
        "X_train, X_test, y_train, y_test = train_test_split(X, y, test_size=0.2, random_state=42)\n",
        "\n",
        "# Scale features\n",
        "scaler = StandardScaler()\n",
        "X_train_scaled = scaler.fit_transform(X_train)\n",
        "X_test_scaled = scaler.transform(X_test)\n",
        "\n",
        "# Train Logistic Regression model\n",
        "model = LogisticRegression(max_iter=500)\n",
        "model.fit(X_train_scaled, y_train)\n",
        "\n",
        "# Predict and evaluate model\n",
        "y_pred = model.predict(X_test_scaled)\n",
        "\n",
        "# Print performance metrics\n",
        "print(f\"Accuracy: {accuracy_score(y_test, y_pred):.2f}\")\n",
        "print(\"Classification Report:\")\n",
        "print(classification_report(y_test, y_pred))\n"
      ],
      "metadata": {
        "colab": {
          "base_uri": "https://localhost:8080/"
        },
        "id": "ApzIPD2TSSmI",
        "outputId": "acb5794f-e870-48e1-f360-affbc411b6b7"
      },
      "execution_count": 21,
      "outputs": [
        {
          "output_type": "stream",
          "name": "stdout",
          "text": [
            "Accuracy: 0.80\n",
            "Classification Report:\n",
            "              precision    recall  f1-score   support\n",
            "\n",
            "           0       0.81      0.86      0.83       105\n",
            "           1       0.78      0.72      0.75        74\n",
            "\n",
            "    accuracy                           0.80       179\n",
            "   macro avg       0.80      0.79      0.79       179\n",
            "weighted avg       0.80      0.80      0.80       179\n",
            "\n"
          ]
        }
      ]
    },
    {
      "cell_type": "markdown",
      "source": [
        "15. Write a Python program to apply feature scaling (Standardization) before training a Logistic Regression\n",
        "model. Evaluate its accuracy and compare results with and without scaling."
      ],
      "metadata": {
        "id": "kp24Loj0TSBX"
      }
    },
    {
      "cell_type": "code",
      "source": [
        "import numpy as np\n",
        "import pandas as pd\n",
        "from sklearn.datasets import fetch_california_housing\n",
        "from sklearn.model_selection import train_test_split\n",
        "from sklearn.preprocessing import StandardScaler\n",
        "from sklearn.linear_model import LogisticRegression\n",
        "from sklearn.metrics import accuracy_score\n",
        "\n",
        "# Load the California housing dataset\n",
        "data = fetch_california_housing()\n",
        "X = data.data\n",
        "y = data.target\n",
        "\n",
        "# Convert continuous target into binary classification (above or below median house price)\n",
        "y = (y > np.median(y)).astype(int)\n",
        "\n",
        "# Split dataset into training and test sets\n",
        "X_train, X_test, y_train, y_test = train_test_split(X, y, test_size=0.2, random_state=42)\n",
        "\n",
        "# Train Logistic Regression model WITHOUT scaling\n",
        "model_no_scaling = LogisticRegression(max_iter=500)\n",
        "model_no_scaling.fit(X_train, y_train)\n",
        "y_pred_no_scaling = model_no_scaling.predict(X_test)\n",
        "accuracy_no_scaling = accuracy_score(y_test, y_pred_no_scaling)\n",
        "\n",
        "# Apply Standardization (Feature Scaling)\n",
        "scaler = StandardScaler()\n",
        "X_train_scaled = scaler.fit_transform(X_train)\n",
        "X_test_scaled = scaler.transform(X_test)\n",
        "\n",
        "# Train Logistic Regression model WITH scaling\n",
        "model_scaled = LogisticRegression(max_iter=500)\n",
        "model_scaled.fit(X_train_scaled, y_train)\n",
        "y_pred_scaled = model_scaled.predict(X_test_scaled)\n",
        "accuracy_scaled = accuracy_score(y_test, y_pred_scaled)\n",
        "\n",
        "# Print comparison of accuracy\n",
        "print(f\"Accuracy WITHOUT Scaling: {accuracy_no_scaling:.2f}\")\n",
        "print(f\"Accuracy WITH Scaling: {accuracy_scaled:.2f}\")\n"
      ],
      "metadata": {
        "colab": {
          "base_uri": "https://localhost:8080/"
        },
        "id": "JkGx3rgNT12C",
        "outputId": "750e7d17-73c3-453e-abbb-391551f9ec08"
      },
      "execution_count": 22,
      "outputs": [
        {
          "output_type": "stream",
          "name": "stdout",
          "text": [
            "Accuracy WITHOUT Scaling: 0.80\n",
            "Accuracy WITH Scaling: 0.83\n"
          ]
        }
      ]
    },
    {
      "cell_type": "markdown",
      "source": [
        "16.  Write a Python program to train Logistic Regression and evaluate its performance using ROC-AUC score."
      ],
      "metadata": {
        "id": "g8-qmkBCT7GE"
      }
    },
    {
      "cell_type": "code",
      "source": [
        "import numpy as np\n",
        "import pandas as pd\n",
        "import matplotlib.pyplot as plt\n",
        "from sklearn.datasets import load_breast_cancer\n",
        "from sklearn.model_selection import train_test_split\n",
        "from sklearn.preprocessing import StandardScaler\n",
        "from sklearn.linear_model import LogisticRegression\n",
        "from sklearn.metrics import roc_auc_score, roc_curve\n",
        "\n",
        "# Load the Breast Cancer dataset\n",
        "data = load_breast_cancer()\n",
        "X = data.data\n",
        "y = data.target  # Binary classification (0 = malignant, 1 = benign)\n",
        "\n",
        "# Split dataset into training and test sets\n",
        "X_train, X_test, y_train, y_test = train_test_split(X, y, test_size=0.2, random_state=42, stratify=y)\n",
        "\n",
        "# Apply Standardization\n",
        "scaler = StandardScaler()\n",
        "X_train_scaled = scaler.fit_transform(X_train)\n",
        "X_test_scaled = scaler.transform(X_test)\n",
        "\n",
        "# Train a Logistic Regression model\n",
        "model = LogisticRegression(max_iter=500)\n",
        "model.fit(X_train_scaled, y_train)\n",
        "\n",
        "# Predict probabilities for ROC-AUC evaluation\n",
        "y_probs = model.predict_proba(X_test_scaled)[:, 1]  # Probabilities for the positive class\n",
        "\n",
        "# Compute the ROC-AUC score\n",
        "roc_auc = roc_auc_score(y_test, y_probs)\n",
        "print(f\"ROC-AUC Score: {roc_auc:.2f}\")\n",
        "\n",
        "# Plot the ROC Curve\n",
        "fpr, tpr, _ = roc_curve(y_test, y_probs)\n",
        "plt.figure(figsize=(6,4))\n",
        "plt.plot(fpr, tpr, label=f\"ROC Curve (AUC = {roc_auc:.2f})\", color=\"blue\")\n",
        "plt.plot([0, 1], [0, 1], linestyle=\"--\", color=\"gray\")  # Diagonal reference line\n",
        "plt.xlabel(\"False Positive Rate\")\n",
        "plt.ylabel(\"True Positive Rate\")\n",
        "plt.title(\"ROC Curve for Logistic Regression\")\n",
        "plt.legend()\n",
        "plt.show()\n"
      ],
      "metadata": {
        "colab": {
          "base_uri": "https://localhost:8080/",
          "height": 428
        },
        "id": "MR5uf7lsUQlI",
        "outputId": "f23cf782-846d-4a19-d42e-0413249badde"
      },
      "execution_count": 23,
      "outputs": [
        {
          "output_type": "stream",
          "name": "stdout",
          "text": [
            "ROC-AUC Score: 1.00\n"
          ]
        },
        {
          "output_type": "display_data",
          "data": {
            "text/plain": [
              "<Figure size 600x400 with 1 Axes>"
            ],
            "image/png": "[encoded data removed]"
          },
          "metadata": {}
        }
      ]
    },
    {
      "cell_type": "markdown",
      "source": [
        "17. Write a Python program to train Logistic Regression using a custom learning rate (C=0.5) and evaluate\n",
        "accuracy."
      ],
      "metadata": {
        "id": "3otqkBJ7UTt3"
      }
    },
    {
      "cell_type": "code",
      "source": [
        "import pandas as pd\n",
        "import numpy as np\n",
        "from sklearn.datasets import load_breast_cancer\n",
        "from sklearn.model_selection import train_test_split\n",
        "from sklearn.preprocessing import StandardScaler\n",
        "from sklearn.linear_model import LogisticRegression\n",
        "from sklearn.metrics import accuracy_score\n",
        "\n",
        "# Load the Breast Cancer dataset\n",
        "data = load_breast_cancer()\n",
        "X = data.data\n",
        "y = data.target  # Binary classification (0 = malignant, 1 = benign)\n",
        "\n",
        "# Split dataset into training and test sets\n",
        "X_train, X_test, y_train, y_test = train_test_split(X, y, test_size=0.2, random_state=42, stratify=y)\n",
        "\n",
        "# Apply feature scaling\n",
        "scaler = StandardScaler()\n",
        "X_train_scaled = scaler.fit_transform(X_train)\n",
        "X_test_scaled = scaler.transform(X_test)\n",
        "\n",
        "# Train Logistic Regression with custom C value (C=0.5)\n",
        "model = LogisticRegression(C=0.5, max_iter=500)\n",
        "model.fit(X_train_scaled, y_train)\n",
        "\n",
        "# Predict and evaluate accuracy\n",
        "y_pred = model.predict(X_test_scaled)\n",
        "accuracy = accuracy_score(y_test, y_pred)\n",
        "\n",
        "print(f\"Logistic Regression Accuracy with C=0.5: {accuracy:.2f}\")\n"
      ],
      "metadata": {
        "colab": {
          "base_uri": "https://localhost:8080/"
        },
        "id": "eAlg9yRYUk1s",
        "outputId": "36b8d7c7-825b-4bae-eb80-883774dc8c6b"
      },
      "execution_count": 25,
      "outputs": [
        {
          "output_type": "stream",
          "name": "stdout",
          "text": [
            "Logistic Regression Accuracy with C=0.5: 0.98\n"
          ]
        }
      ]
    },
    {
      "cell_type": "markdown",
      "source": [
        "18.  Write a Python program to train Logistic Regression and identify important features based on model\n",
        "coefficients."
      ],
      "metadata": {
        "id": "lSZXeRweUuEl"
      }
    },
    {
      "cell_type": "code",
      "source": [
        "import pandas as pd\n",
        "import numpy as np\n",
        "from sklearn.datasets import load_breast_cancer\n",
        "from sklearn.model_selection import train_test_split\n",
        "from sklearn.preprocessing import StandardScaler\n",
        "from sklearn.linear_model import LogisticRegression\n",
        "\n",
        "# Load the Breast Cancer dataset\n",
        "data = load_breast_cancer()\n",
        "X = pd.DataFrame(data.data, columns=data.feature_names)  # Features as a DataFrame\n",
        "y = data.target  # Binary classification (0 = malignant, 1 = benign)\n",
        "\n",
        "# Split dataset into training and test sets\n",
        "X_train, X_test, y_train, y_test = train_test_split(X, y, test_size=0.2, random_state=42, stratify=y)\n",
        "\n",
        "# Apply feature scaling\n",
        "scaler = StandardScaler()\n",
        "X_train_scaled = scaler.fit_transform(X_train)\n",
        "X_test_scaled = scaler.transform(X_test)\n",
        "\n",
        "# Train Logistic Regression model\n",
        "model = LogisticRegression(max_iter=500)\n",
        "model.fit(X_train_scaled, y_train)\n",
        "\n",
        "# Extract feature importance (coefficients)\n",
        "feature_importance = pd.DataFrame({\"Feature\": X.columns, \"Coefficient\": model.coef_[0]})\n",
        "feature_importance[\"Absolute Coefficient\"] = feature_importance[\"Coefficient\"].abs()  # Sort by importance\n",
        "feature_importance = feature_importance.sort_values(by=\"Absolute Coefficient\", ascending=False)\n",
        "\n",
        "# Print top important features\n",
        "print(\"Top Important Features Based on Logistic Regression Coefficients:\")\n",
        "print(feature_importance.head(10))\n"
      ],
      "metadata": {
        "colab": {
          "base_uri": "https://localhost:8080/"
        },
        "id": "gVwFnDXgU21L",
        "outputId": "3e1f834a-8370-498b-fe90-4b9c597dfe54"
      },
      "execution_count": 26,
      "outputs": [
        {
          "output_type": "stream",
          "name": "stdout",
          "text": [
            "Top Important Features Based on Logistic Regression Coefficients:\n",
            "                 Feature  Coefficient  Absolute Coefficient\n",
            "21         worst texture    -1.255088              1.255088\n",
            "10          radius error    -1.082965              1.082965\n",
            "27  worst concave points    -0.953686              0.953686\n",
            "23            worst area    -0.947756              0.947756\n",
            "20          worst radius    -0.947616              0.947616\n",
            "28        worst symmetry    -0.939181              0.939181\n",
            "13            area error    -0.929104              0.929104\n",
            "26       worst concavity    -0.823151              0.823151\n",
            "22       worst perimeter    -0.763220              0.763220\n",
            "24      worst smoothness    -0.746625              0.746625\n"
          ]
        }
      ]
    },
    {
      "cell_type": "markdown",
      "source": [
        "19. Write a Python program to train Logistic Regression and evaluate its performance using Cohen’s Kappa\n",
        "Score."
      ],
      "metadata": {
        "id": "CvuoqbwrU4g1"
      }
    },
    {
      "cell_type": "code",
      "source": [
        "import pandas as pd\n",
        "import numpy as np\n",
        "from sklearn.datasets import load_breast_cancer\n",
        "from sklearn.model_selection import train_test_split\n",
        "from sklearn.preprocessing import StandardScaler\n",
        "from sklearn.linear_model import LogisticRegression\n",
        "from sklearn.metrics import accuracy_score, cohen_kappa_score\n",
        "\n",
        "# Load the Breast Cancer dataset\n",
        "data = load_breast_cancer()\n",
        "X = data.data\n",
        "y = data.target  # Binary classification (0 = malignant, 1 = benign)\n",
        "\n",
        "# Split dataset into training and test sets\n",
        "X_train, X_test, y_train, y_test = train_test_split(X, y, test_size=0.2, random_state=42, stratify=y)\n",
        "\n",
        "# Apply Standardization\n",
        "scaler = StandardScaler()\n",
        "X_train_scaled = scaler.fit_transform(X_train)\n",
        "X_test_scaled = scaler.transform(X_test)\n",
        "\n",
        "# Train Logistic Regression model\n",
        "model = LogisticRegression(max_iter=500)\n",
        "model.fit(X_train_scaled, y_train)\n",
        "\n",
        "# Predict on the test set\n",
        "y_pred = model.predict(X_test_scaled)\n",
        "\n",
        "# Evaluate the model using Accuracy and Cohen’s Kappa Score\n",
        "accuracy = accuracy_score(y_test, y_pred)\n",
        "kappa_score = cohen_kappa_score(y_test, y_pred)\n",
        "\n",
        "print(f\"Logistic Regression Model Accuracy: {accuracy:.2f}\")\n",
        "print(f\"Cohen’s Kappa Score: {kappa_score:.2f}\")\n"
      ],
      "metadata": {
        "colab": {
          "base_uri": "https://localhost:8080/"
        },
        "id": "Q3cATWGgVBkx",
        "outputId": "625541f4-0e53-4c49-947f-4f92ea8830a9"
      },
      "execution_count": 27,
      "outputs": [
        {
          "output_type": "stream",
          "name": "stdout",
          "text": [
            "Logistic Regression Model Accuracy: 0.98\n",
            "Cohen’s Kappa Score: 0.96\n"
          ]
        }
      ]
    },
    {
      "cell_type": "markdown",
      "source": [
        "20. Write a Python program to train Logistic Regression and visualize the Precision-Recall Curve for binary\n",
        "classification."
      ],
      "metadata": {
        "id": "PIrdEvf2VEZl"
      }
    },
    {
      "cell_type": "code",
      "source": [
        "import numpy as np\n",
        "import pandas as pd\n",
        "import matplotlib.pyplot as plt\n",
        "from sklearn.datasets import load_breast_cancer\n",
        "from sklearn.model_selection import train_test_split\n",
        "from sklearn.preprocessing import StandardScaler\n",
        "from sklearn.linear_model import LogisticRegression\n",
        "from sklearn.metrics import precision_recall_curve, average_precision_score\n",
        "\n",
        "# Load the Breast Cancer dataset\n",
        "data = load_breast_cancer()\n",
        "X = data.data\n",
        "y = data.target  # Binary classification (0 = malignant, 1 = benign)\n",
        "\n",
        "# Split dataset into training and test sets\n",
        "X_train, X_test, y_train, y_test = train_test_split(X, y, test_size=0.2, random_state=42, stratify=y)\n",
        "\n",
        "# Apply Standardization\n",
        "scaler = StandardScaler()\n",
        "X_train_scaled = scaler.fit_transform(X_train)\n",
        "X_test_scaled = scaler.transform(X_test)\n",
        "\n",
        "# Train Logistic Regression model\n",
        "model = LogisticRegression(max_iter=500)\n",
        "model.fit(X_train_scaled, y_train)\n",
        "\n",
        "# Predict probabilities for Precision-Recall evaluation\n",
        "y_probs = model.predict_proba(X_test_scaled)[:, 1]  # Probabilities for the positive class\n",
        "\n",
        "# Compute Precision-Recall curve\n",
        "precision, recall, _ = precision_recall_curve(y_test, y_probs)\n",
        "avg_precision = average_precision_score(y_test, y_probs)\n",
        "\n",
        "# Plot the Precision-Recall Curve\n",
        "plt.figure(figsize=(6,4))\n",
        "plt.plot(recall, precision, label=f\"Precision-Recall Curve (AP = {avg_precision:.2f})\", color=\"blue\")\n",
        "plt.xlabel(\"Recall\")\n",
        "plt.ylabel(\"Precision\")\n",
        "plt.title(\"Precision-Recall Curve for Logistic Regression\")\n",
        "plt.legend()\n",
        "plt.show()\n"
      ],
      "metadata": {
        "colab": {
          "base_uri": "https://localhost:8080/",
          "height": 410
        },
        "id": "xRtMGsMYVSX-",
        "outputId": "e2a6a05c-c2ad-4ea2-d331-d0cb806c4886"
      },
      "execution_count": 28,
      "outputs": [
        {
          "output_type": "display_data",
          "data": {
            "text/plain": [
              "<Figure size 600x400 with 1 Axes>"
            ],
            "image/png": "[encoded data removed]"
          },
          "metadata": {}
        }
      ]
    },
    {
      "cell_type": "markdown",
      "source": [
        "21.  Write a Python program to train Logistic Regression with different solvers (liblinear, saga, lbfgs) and compare\n",
        "their accuracy."
      ],
      "metadata": {
        "id": "l-8BIj1eVXNf"
      }
    },
    {
      "cell_type": "code",
      "source": [
        "import pandas as pd\n",
        "import numpy as np\n",
        "from sklearn.datasets import load_breast_cancer\n",
        "from sklearn.model_selection import train_test_split\n",
        "from sklearn.preprocessing import StandardScaler\n",
        "from sklearn.linear_model import LogisticRegression\n",
        "from sklearn.metrics import accuracy_score\n",
        "\n",
        "# Load the Breast Cancer dataset\n",
        "data = load_breast_cancer()\n",
        "X = data.data\n",
        "y = data.target  # Binary classification (0 = malignant, 1 = benign)\n",
        "\n",
        "# Split dataset into training and test sets\n",
        "X_train, X_test, y_train, y_test = train_test_split(X, y, test_size=0.2, random_state=42, stratify=y)\n",
        "\n",
        "# Apply feature scaling\n",
        "scaler = StandardScaler()\n",
        "X_train_scaled = scaler.fit_transform(X_train)\n",
        "X_test_scaled = scaler.transform(X_test)\n",
        "\n",
        "# Define solvers to test\n",
        "solvers = [\"liblinear\", \"saga\", \"lbfgs\"]\n",
        "results = {}\n",
        "\n",
        "# Train Logistic Regression models with different solvers and evaluate accuracy\n",
        "for solver in solvers:\n",
        "    model = LogisticRegression(solver=solver, max_iter=500)\n",
        "    model.fit(X_train_scaled, y_train)\n",
        "    y_pred = model.predict(X_test_scaled)\n",
        "    accuracy = accuracy_score(y_test, y_pred)\n",
        "    results[solver] = accuracy\n",
        "\n",
        "# Print comparison results\n",
        "print(\"Accuracy Comparison of Different Solvers:\")\n",
        "for solver, accuracy in results.items():\n",
        "    print(f\"{solver}: {accuracy:.2f}\")\n"
      ],
      "metadata": {
        "colab": {
          "base_uri": "https://localhost:8080/"
        },
        "id": "kgLcdwBeVjpI",
        "outputId": "ffc97690-b4d7-4b17-c85f-6c951af9940f"
      },
      "execution_count": 29,
      "outputs": [
        {
          "output_type": "stream",
          "name": "stdout",
          "text": [
            "Accuracy Comparison of Different Solvers:\n",
            "liblinear: 0.98\n",
            "saga: 0.98\n",
            "lbfgs: 0.98\n"
          ]
        }
      ]
    },
    {
      "cell_type": "markdown",
      "source": [
        "22.  Write a Python program to train Logistic Regression and evaluate its performance using Matthews\n",
        "Correlation Coefficient (MCC)."
      ],
      "metadata": {
        "id": "hcHiO3nxVlaN"
      }
    },
    {
      "cell_type": "code",
      "source": [
        "import pandas as pd\n",
        "import numpy as np\n",
        "from sklearn.datasets import load_breast_cancer\n",
        "from sklearn.model_selection import train_test_split\n",
        "from sklearn.preprocessing import StandardScaler\n",
        "from sklearn.linear_model import LogisticRegression\n",
        "from sklearn.metrics import accuracy_score, matthews_corrcoef\n",
        "\n",
        "# Load the Breast Cancer dataset\n",
        "data = load_breast_cancer()\n",
        "X = data.data\n",
        "y = data.target  # Binary classification (0 = malignant, 1 = benign)\n",
        "\n",
        "# Split dataset into training and test sets\n",
        "X_train, X_test, y_train, y_test = train_test_split(X, y, test_size=0.2, random_state=42, stratify=y)\n",
        "\n",
        "# Apply Standardization\n",
        "scaler = StandardScaler()\n",
        "X_train_scaled = scaler.fit_transform(X_train)\n",
        "X_test_scaled = scaler.transform(X_test)\n",
        "\n",
        "# Train Logistic Regression model\n",
        "model = LogisticRegression(max_iter=500)\n",
        "model.fit(X_train_scaled, y_train)\n",
        "\n",
        "# Predict on the test set\n",
        "y_pred = model.predict(X_test_scaled)\n",
        "\n",
        "# Evaluate the model using Accuracy and MCC\n",
        "accuracy = accuracy_score(y_test, y_pred)\n",
        "mcc_score = matthews_corrcoef(y_test, y_pred)\n",
        "\n",
        "print(f\"Logistic Regression Model Accuracy: {accuracy:.2f}\")\n",
        "print(f\"Matthews Correlation Coefficient (MCC): {mcc_score:.2f}\")\n"
      ],
      "metadata": {
        "colab": {
          "base_uri": "https://localhost:8080/"
        },
        "id": "m25QXeVQVsIZ",
        "outputId": "f86ab904-04fb-48db-8be3-0a4fdb6b63da"
      },
      "execution_count": 30,
      "outputs": [
        {
          "output_type": "stream",
          "name": "stdout",
          "text": [
            "Logistic Regression Model Accuracy: 0.98\n",
            "Matthews Correlation Coefficient (MCC): 0.96\n"
          ]
        }
      ]
    },
    {
      "cell_type": "markdown",
      "source": [
        "23.  Write a Python program to train Logistic Regression on both raw and standardized data. Compare their\n",
        "accuracy to see the impact of feature scaling."
      ],
      "metadata": {
        "id": "jrWUO7bcV1Lb"
      }
    },
    {
      "cell_type": "code",
      "source": [
        "import numpy as np\n",
        "import pandas as pd\n",
        "from sklearn.datasets import load_breast_cancer\n",
        "from sklearn.model_selection import train_test_split\n",
        "from sklearn.preprocessing import StandardScaler\n",
        "from sklearn.linear_model import LogisticRegression\n",
        "from sklearn.metrics import accuracy_score\n",
        "\n",
        "# Load the Breast Cancer dataset\n",
        "data = load_breast_cancer()\n",
        "X = data.data\n",
        "y = data.target  # Binary classification (0 = malignant, 1 = benign)\n",
        "\n",
        "# Split dataset into training and test sets\n",
        "X_train, X_test, y_train, y_test = train_test_split(X, y, test_size=0.2, random_state=42, stratify=y)\n",
        "\n",
        "# Train Logistic Regression model on RAW data (without scaling)\n",
        "model_raw = LogisticRegression(max_iter=500)\n",
        "model_raw.fit(X_train, y_train)\n",
        "y_pred_raw = model_raw.predict(X_test)\n",
        "accuracy_raw = accuracy_score(y_test, y_pred_raw)\n",
        "\n",
        "# Apply Standardization (Feature Scaling)\n",
        "scaler = StandardScaler()\n",
        "X_train_scaled = scaler.fit_transform(X_train)\n",
        "X_test_scaled = scaler.transform(X_test)\n",
        "\n",
        "# Train Logistic Regression model on SCALED data\n",
        "model_scaled = LogisticRegression(max_iter=500)\n",
        "model_scaled.fit(X_train_scaled, y_train)\n",
        "y_pred_scaled = model_scaled.predict(X_test_scaled)\n",
        "accuracy_scaled = accuracy_score(y_test, y_pred_scaled)\n",
        "\n",
        "# Print comparison of accuracy\n",
        "print(f\"Accuracy WITHOUT Scaling: {accuracy_raw:.2f}\")\n",
        "print(f\"Accuracy WITH Scaling: {accuracy_scaled:.2f}\")\n"
      ],
      "metadata": {
        "colab": {
          "base_uri": "https://localhost:8080/"
        },
        "id": "eExQKPQiV-uu",
        "outputId": "b2e8d872-6faa-4dc6-b888-7138999ef5be"
      },
      "execution_count": 31,
      "outputs": [
        {
          "output_type": "stream",
          "name": "stdout",
          "text": [
            "Accuracy WITHOUT Scaling: 0.96\n",
            "Accuracy WITH Scaling: 0.98\n"
          ]
        }
      ]
    },
    {
      "cell_type": "markdown",
      "source": [
        "24. Write a Python program to train Logistic Regression and find the optimal C (regularization strength) using\n",
        "cross-validation."
      ],
      "metadata": {
        "id": "GW86E_RxWDov"
      }
    },
    {
      "cell_type": "code",
      "source": [
        "import numpy as np\n",
        "import pandas as pd\n",
        "from sklearn.datasets import load_breast_cancer\n",
        "from sklearn.model_selection import train_test_split, cross_val_score\n",
        "from sklearn.preprocessing import StandardScaler\n",
        "from sklearn.linear_model import LogisticRegression\n",
        "\n",
        "# Load the Breast Cancer dataset\n",
        "data = load_breast_cancer()\n",
        "X = data.data\n",
        "y = data.target  # Binary classification (0 = malignant, 1 = benign)\n",
        "\n",
        "# Split dataset into training and test sets\n",
        "X_train, X_test, y_train, y_test = train_test_split(X, y, test_size=0.2, random_state=42, stratify=y)\n",
        "\n",
        "# Apply Standardization\n",
        "scaler = StandardScaler()\n",
        "X_train_scaled = scaler.fit_transform(X_train)\n",
        "X_test_scaled = scaler.transform(X_test)\n",
        "\n",
        "# Define range of C values for cross-validation\n",
        "C_values = [0.01, 0.1, 1, 10, 100]\n",
        "best_C = None\n",
        "best_score = 0\n",
        "\n",
        "# Perform cross-validation for different values of C\n",
        "for C in C_values:\n",
        "    model = LogisticRegression(C=C, max_iter=500)\n",
        "    scores = cross_val_score(model, X_train_scaled, y_train, cv=5, scoring=\"accuracy\")\n",
        "    avg_score = scores.mean()\n",
        "\n",
        "    print(f\"C={C}: Cross-Validation Accuracy = {avg_score:.2f}\")\n",
        "\n",
        "    if avg_score > best_score:\n",
        "        best_C = C\n",
        "        best_score = avg_score\n",
        "\n",
        "# Train final model with best C\n",
        "print(f\"\\nOptimal C value: {best_C}\")\n",
        "final_model = LogisticRegression(C=best_C, max_iter=500)\n",
        "final_model.fit(X_train_scaled, y_train)\n",
        "final_accuracy = final_model.score(X_test_scaled, y_test)\n",
        "\n",
        "print(f\"Final Model Accuracy on Test Data: {final_accuracy:.2f}\")\n"
      ],
      "metadata": {
        "colab": {
          "base_uri": "https://localhost:8080/"
        },
        "id": "4ZPp3MjvWPlW",
        "outputId": "61b911be-5ab9-481f-be35-e35caefdb4a4"
      },
      "execution_count": 32,
      "outputs": [
        {
          "output_type": "stream",
          "name": "stdout",
          "text": [
            "C=0.01: Cross-Validation Accuracy = 0.95\n",
            "C=0.1: Cross-Validation Accuracy = 0.98\n",
            "C=1: Cross-Validation Accuracy = 0.98\n",
            "C=10: Cross-Validation Accuracy = 0.97\n",
            "C=100: Cross-Validation Accuracy = 0.96\n",
            "\n",
            "Optimal C value: 0.1\n",
            "Final Model Accuracy on Test Data: 0.97\n"
          ]
        }
      ]
    },
    {
      "cell_type": "markdown",
      "source": [
        "25.  Write a Python program to train Logistic Regression, save the trained model using joblib, and load it again to\n",
        "make predictions."
      ],
      "metadata": {
        "id": "X0-Iqd5aWRUZ"
      }
    },
    {
      "cell_type": "code",
      "source": [
        "import numpy as np\n",
        "import pandas as pd\n",
        "import joblib\n",
        "from sklearn.datasets import load_breast_cancer\n",
        "from sklearn.model_selection import train_test_split\n",
        "from sklearn.preprocessing import StandardScaler\n",
        "from sklearn.linear_model import LogisticRegression\n",
        "from sklearn.metrics import accuracy_score\n",
        "\n",
        "# Load the Breast Cancer dataset\n",
        "data = load_breast_cancer()\n",
        "X = data.data\n",
        "y = data.target  # Binary classification (0 = malignant, 1 = benign)\n",
        "\n",
        "# Split dataset into training and test sets\n",
        "X_train, X_test, y_train, y_test = train_test_split(X, y, test_size=0.2, random_state=42, stratify=y)\n",
        "\n",
        "# Apply Standardization\n",
        "scaler = StandardScaler()\n",
        "X_train_scaled = scaler.fit_transform(X_train)\n",
        "X_test_scaled = scaler.transform(X_test)\n",
        "\n",
        "# Train a Logistic Regression model\n",
        "model = LogisticRegression(max_iter=500)\n",
        "model.fit(X_train_scaled, y_train)\n",
        "\n",
        "# Save the trained model using joblib\n",
        "joblib.dump(model, \"logistic_regression_model.pkl\")\n",
        "\n",
        "# Load the saved model\n",
        "loaded_model = joblib.load(\"logistic_regression_model.pkl\")\n",
        "\n",
        "# Predict and evaluate the loaded model\n",
        "y_pred = loaded_model.predict(X_test_scaled)\n",
        "accuracy = accuracy_score(y_test, y_pred)\n",
        "\n",
        "print(f\"Loaded Model Accuracy: {accuracy:.2f}\")\n"
      ],
      "metadata": {
        "colab": {
          "base_uri": "https://localhost:8080/"
        },
        "id": "nNGjOQWiWabg",
        "outputId": "b2f3a9e8-053b-440e-c5fe-5d58c511491d"
      },
      "execution_count": 33,
      "outputs": [
        {
          "output_type": "stream",
          "name": "stdout",
          "text": [
            "Loaded Model Accuracy: 0.98\n"
          ]
        }
      ]
    }
  ]
}